{
 "cells": [
  {
   "cell_type": "code",
   "execution_count": 83,
   "id": "ab357419-9ead-426e-a8e9-8899f7d140f2",
   "metadata": {},
   "outputs": [
    {
     "name": "stdout",
     "output_type": "stream",
     "text": [
      "Successfully loaded ICD diagnoses data.\n",
      "Machine learning model trained successfully.\n",
      "* Running on local URL:  http://127.0.0.1:7862\n",
      "* To create a public link, set `share=True` in `launch()`.\n"
     ]
    },
    {
     "data": {
      "text/html": [
       "<div><iframe src=\"http://127.0.0.1:7862/\" width=\"100%\" height=\"500\" allow=\"autoplay; camera; microphone; clipboard-read; clipboard-write;\" frameborder=\"0\" allowfullscreen></iframe></div>"
      ],
      "text/plain": [
       "<IPython.core.display.HTML object>"
      ]
     },
     "metadata": {},
     "output_type": "display_data"
    }
   ],
   "source": [
    "import pandas as pd\n",
    "import spacy\n",
    "from spacy.lang.en import English\n",
    "import medspacy\n",
    "from sklearn.feature_extraction.text import TfidfVectorizer\n",
    "from sklearn.linear_model import LogisticRegression\n",
    "import gradio as gr\n",
    "import re\n",
    "\n",
    "try:\n",
    "    df_icd = pd.read_csv('d_icd_diagnoses.csv')\n",
    "    # Filter for ICD-10 diagnoses for this example\n",
    "    df_icd_10 = df_icd[df_icd['icd_version'] == 10]\n",
    "    print(\"Successfully loaded ICD diagnoses data.\")\n",
    "except FileNotFoundError:\n",
    "    print(\"Error: 'd_icd_diagnoses.csv' not found. Please place it in the same directory.\")\n",
    "    exit()\n",
    "\n",
    "vague_diagnoses = [\n",
    "    \"pneumonia\",\n",
    "    \"heart failure\",\n",
    "    \"sepsis\",\n",
    "    \"acute kidney injury\"\n",
    "]\n",
    "\n",
    "mock_data = {\n",
    "    'note_id': [1, 2, 3, 4, 5, 6],\n",
    "    'text': [\n",
    "        \"Patient admitted with pneumonia. No pathogen specified.\",\n",
    "        \"Patient has systolic heart failure.\",\n",
    "        \"Patient presents with septic shock due to E. coli.\",\n",
    "        \"Patient with fever and cough, rule out pneumonia.\",\n",
    "        \"Patient has chronic systolic heart failure, New York Heart Association Class II.\",\n",
    "        \"Discharge summary: Patient was treated for acute kidney injury.\"\n",
    "    ],\n",
    "    'label': [1, 0, 0, 1, 0, 1]  # 1 = needs query, 0 = complete\n",
    "}\n",
    "df_notes = pd.DataFrame(mock_data)\n",
    "\n",
    "nlp = medspacy.load()\n",
    "\n",
    "icd_diagnosis_list = df_icd_10['long_title'].str.lower().tolist()\n",
    "\n",
    "def preprocess_text(text):\n",
    "    text = text.lower()\n",
    "    # Replace newlines and extra spaces with a single space\n",
    "    text = re.sub(r'\\s+', ' ', text)\n",
    "    # You can add more complex cleaning here if needed\n",
    "    return text\n",
    "\n",
    "df_notes['processed_text'] = df_notes['text'].apply(preprocess_text)\n",
    "\n",
    "vectorizer = TfidfVectorizer(stop_words='english', max_features=100)\n",
    "X = vectorizer.fit_transform(df_notes['processed_text'])\n",
    "y = df_notes['label']\n",
    "\n",
    "model = LogisticRegression()\n",
    "model.fit(X, y)\n",
    "print(\"Machine learning model trained successfully.\")\n",
    "\n",
    "def cdi_assistant_logic(note_text):\n",
    "    \"\"\"\n",
    "    Combines rule-based and machine learning approaches to suggest CDI queries.\n",
    "    \"\"\"\n",
    "\n",
    "    clean_text = preprocess_text(note_text)\n",
    "\n",
    "    for term in vague_diagnoses:\n",
    "        if term in clean_text:\n",
    "            # If the vague term is present, check if a more specific ICD code title is also present.\n",
    "            if not any(specific_term in clean_text for specific_term in icd_diagnoses_list if term in specific_term):\n",
    "                return f\"⚠️ **Query Needed:** The documentation mentions '{term}' without a more specific diagnosis. Please clarify.\"\n",
    "\n",
    "            doc = nlp(note_text)\n",
    "    for ent in doc.ents:\n",
    "        # Check if a diagnosis is negated\n",
    "        if ent.label_ in (\"DIAGNOSIS\", \"PROBLEM\") and ent._.is_negated:\n",
    "            return f\"✅ **Documentation Appears Complete:** A diagnosis of '{ent.text}' was mentioned but explicitly negated. No query needed.\"\n",
    "    vectorized_text = vectorizer.transform([clean_text])\n",
    "    prediction = model.predict(vectorized_text)[0]\n",
    "\n",
    "    if prediction == 1:\n",
    "        return \"⚠️ **Query Needed (ML Suggestion):** The model suggests this note may be incomplete or vague. Consider a query.\"\n",
    "    else:\n",
    "        return \"✅ **Documentation Appears Complete:** The note is likely specific and complete.\"\n",
    "\n",
    "iface = gr.Interface(\n",
    "    fn=cdi_assistant_logic,\n",
    "    inputs=gr.Textbox(\n",
    "        label=\"Enter a Clinical Note\",\n",
    "        lines=10,\n",
    "        placeholder=\"e.g., Patient admitted for heart failure. \"\n",
    "    ),\n",
    "    outputs=gr.Markdown(),\n",
    "    title=\"AI-Powered CDI Assistant 🩺\",\n",
    "    description=\"This tool analyzes a clinical note to identify potential documentation gaps that may require a CDI query. It uses a combination of rule-based logic (leveraging ICD codes) and a machine learning model.\"\n",
    ")\n",
    "\n",
    "\n",
    "if __name__ == \"__main__\":\n",
    "    iface.launch('share=True')"
   ]
  }
 ],
 "metadata": {
  "kernelspec": {
   "display_name": "Python [conda env:base] *",
   "language": "python",
   "name": "conda-base-py"
  },
  "language_info": {
   "codemirror_mode": {
    "name": "ipython",
    "version": 3
   },
   "file_extension": ".py",
   "mimetype": "text/x-python",
   "name": "python",
   "nbconvert_exporter": "python",
   "pygments_lexer": "ipython3",
   "version": "3.13.5"
  }
 },
 "nbformat": 4,
 "nbformat_minor": 5
}
